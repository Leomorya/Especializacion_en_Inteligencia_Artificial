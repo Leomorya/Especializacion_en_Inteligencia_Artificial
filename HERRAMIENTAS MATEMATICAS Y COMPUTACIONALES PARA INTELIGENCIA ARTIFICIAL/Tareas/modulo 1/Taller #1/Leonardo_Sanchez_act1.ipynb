{
 "cells": [
  {
   "cell_type": "markdown",
   "id": "c6c2cd81-d8e5-4b57-b753-485da3e98c9c",
   "metadata": {},
   "source": [
    "# Taller #1 Introducción a python\n",
    "### Presentado por: Leonardo Sánchez\n",
    "### Presentado a: Felipe Palta\n",
    "### Universidad Autónoma de Occidente\n",
    "### Especialización en Inteligencia Artificial"
   ]
  },
  {
   "cell_type": "markdown",
   "id": "70b12a17-d323-4d2a-a5bf-9541e926bb12",
   "metadata": {},
   "source": [
    "Librerias o funciones necesarias "
   ]
  },
  {
   "cell_type": "code",
   "execution_count": 1,
   "id": "75310e43-0721-4c33-bf23-dc821fbcd49e",
   "metadata": {},
   "outputs": [],
   "source": [
    "import numpy as np\n",
    "import re\n",
    "from datetime import timedelta\n",
    "from datetime import date"
   ]
  },
  {
   "cell_type": "markdown",
   "id": "fe74fdad-d148-410d-8f0d-a8e9101046ce",
   "metadata": {},
   "source": [
    "**1. Escriba un programa que solicite al usuario que escriba su nombre, y lo salude llamándolo por su nombre.**\n",
    "\n",
    "Se utiliza una función saludo que no recibe parámetros y solo recibe nombre alfabeticos, sino se vuelve a llamar "
   ]
  },
  {
   "cell_type": "code",
   "execution_count": 2,
   "id": "b5230443-4786-4e00-bf9e-597e8f43524f",
   "metadata": {},
   "outputs": [],
   "source": [
    "def saludo():\n",
    "   nombre = input(\"Escribe solo tu primer tu nombre y presiona enter\\n \")# captura el nombre escrito en la variable nombre \n",
    "   comprueba = bool(re.match(r'^[a-zA-Z]+$', nombre)) # rebisa que ekl nombre esta hecho solo de letras \n",
    "   if comprueba:\n",
    "      print(f\"Hola {nombre}, ten un buen día\\n\") # devuelve el saludo\n",
    "      pass\n",
    "   else:\n",
    "      print(\"nombre no valido intente de nuevo debe estar conformado sólo por letras\\n\") # dice que realice el proceso hasta que el nombre se válido\n",
    "      saludo()"
   ]
  },
  {
   "cell_type": "code",
   "execution_count": 3,
   "id": "6f22dbf7-a264-463c-b8f5-1d65ba668da7",
   "metadata": {},
   "outputs": [
    {
     "name": "stdin",
     "output_type": "stream",
     "text": [
      "Escribe solo tu primer tu nombre y presiona enter\n",
      "  Leo1\n"
     ]
    },
    {
     "name": "stdout",
     "output_type": "stream",
     "text": [
      "nombre no valido intente de nuevo debe estar conformado sólo por letras\n",
      "\n"
     ]
    },
    {
     "name": "stdin",
     "output_type": "stream",
     "text": [
      "Escribe solo tu primer tu nombre y presiona enter\n",
      "  Leo\n"
     ]
    },
    {
     "name": "stdout",
     "output_type": "stream",
     "text": [
      "Hola Leo, ten un buen día\n",
      "\n"
     ]
    }
   ],
   "source": [
    "saludo()"
   ]
  },
  {
   "cell_type": "markdown",
   "id": "a1ee1550-b43b-4910-9913-dc47228dc0cf",
   "metadata": {},
   "source": [
    " **2. Desarrolle un programa que comience leyendo un número de segundos del usuario. Luego, su programa\n",
    " debe mostrar la cantidad de tiempo equivalente en la forma D:HH:MM:SS, donde D, HH, MM y SS\n",
    " representan días, horas, minutos y segundos respectivamente. Las horas, los minutos y los segundos deben\n",
    " formatearse de modo que ocupen exactamente dos dígitos, con un 0 a la izquierda si es necesario**\n",
    " Se construyó una función con el nombre dias_horas_minutos_segundos y se prueba con el objeto time_delta de la libreria datatime"
   ]
  },
  {
   "cell_type": "code",
   "execution_count": 4,
   "id": "b4ee2843-c1fa-4862-a225-67e56a25cbd5",
   "metadata": {},
   "outputs": [],
   "source": [
    "def dias_horas_minutos_segundos():\n",
    "    cadena = input('Ingrese un número entero de segundos\\n') #captura entrada de teclado \n",
    "    comprueba = bool(re.match(r'^\\d+$', cadena)) # comprueba si es un número la entrada\n",
    "    if comprueba:\n",
    "        n = int(cadena) # transforma la entrada en entero\n",
    "        dias = n//86400 # numero de dias \n",
    "        horas = (n%86400)//3600 # resto de la división sobre 3600 número de horas \n",
    "        minutos = ((n%86400)%3600)//60 #resto de la división por 3600 sobre 60 número de minutos \n",
    "        segundos = ((n%86400)%3600)%60 # resto de la división de los minutos son los segundos \n",
    "        print(f' {dias}:{horas:02d}:{minutos:02d}:{segundos:02d}') # impresion de lo requerido \n",
    "        print(f'usando el objeto timedelta\\n {timedelta(seconds=n)}') # usando el objeto timedelta\n",
    "        pass\n",
    "    else:\n",
    "        print('La entrada no es número entero') # dice al usuario que la cadena no es un numero\n",
    "        dias_horas_minutos_segundos() # vuelve y ejecuta la función \n",
    "   "
   ]
  },
  {
   "cell_type": "code",
   "execution_count": 6,
   "id": "3602c98a-61bc-4542-be10-9f8230d30367",
   "metadata": {},
   "outputs": [
    {
     "name": "stdin",
     "output_type": "stream",
     "text": [
      "Ingrese un número entero de segundos\n",
      " 123*\n"
     ]
    },
    {
     "name": "stdout",
     "output_type": "stream",
     "text": [
      "La entrada no es número entero\n"
     ]
    },
    {
     "name": "stdin",
     "output_type": "stream",
     "text": [
      "Ingrese un número entero de segundos\n",
      " 1234567\n"
     ]
    },
    {
     "name": "stdout",
     "output_type": "stream",
     "text": [
      " 14:06:56:07\n",
      "usando el objeto timedelta\n",
      " 14 days, 6:56:07\n"
     ]
    }
   ],
   "source": [
    "dias_horas_minutos_segundos()"
   ]
  },
  {
   "cell_type": "markdown",
   "id": "ab4b4bec-c42a-4af5-862d-5dc068eeb128",
   "metadata": {},
   "source": [
    "**3. Escriba un programa que lea un entero positivo, n, del usuario y luego muestre la suma de todos los\n",
    " enteros del 1 al n. La suma de los primeros n enteros positivos se puede calcular mediante la fórmula:**\n",
    "\n",
    " Para este punto se crea la función suma_hasta_n, **la suma de Gauus fue hasta 100**:"
   ]
  },
  {
   "cell_type": "code",
   "execution_count": 7,
   "id": "baa43942-39b2-4120-bb8d-aef18444e628",
   "metadata": {},
   "outputs": [],
   "source": [
    "def suma_hasta_n():\n",
    "    cadena = input('Ingrese un número entero positivo \\n') #captura entrada de teclado\n",
    "    comprueba = bool(re.match(r'^\\d+$', cadena)) # comprueba si es un número la entrada\n",
    "    if comprueba:\n",
    "        n = int(cadena) # transforma la entrada en entero\n",
    "        suma = n*(n+1)/2 # calcula la suma hasta n\n",
    "        print(f\"La suma de todos los numeros enteros hasta el numero dado es:\\n{suma}\")\n",
    "        pass\n",
    "    else:\n",
    "        print('La entrada no es número entero positivo') # dice al usuario que la cadena no es un numero\n",
    "        suma_hasta_n() # vuelve y ejecuta la función \n"
   ]
  },
  {
   "cell_type": "code",
   "execution_count": 8,
   "id": "59fe682a-fb72-4b64-afaf-f33d06191fcb",
   "metadata": {},
   "outputs": [
    {
     "name": "stdin",
     "output_type": "stream",
     "text": [
      "Ingrese un número entero positivo \n",
      " -100\n"
     ]
    },
    {
     "name": "stdout",
     "output_type": "stream",
     "text": [
      "La entrada no es número entero positivo\n"
     ]
    },
    {
     "name": "stdin",
     "output_type": "stream",
     "text": [
      "Ingrese un número entero positivo \n",
      " 100\n"
     ]
    },
    {
     "name": "stdout",
     "output_type": "stream",
     "text": [
      "La suma de todos los numeros enteros hasta el numero dado es:\n",
      "5050.0\n"
     ]
    }
   ],
   "source": [
    "suma_hasta_n()"
   ]
  },
  {
   "cell_type": "markdown",
   "id": "43d1c99c-dc7a-48ce-91f8-b2e01701565c",
   "metadata": {},
   "source": [
    " **4. Escriba un programa que reciba como entrada las longitudes de los dos catetos a y b de un triángulo\n",
    " rectángulo, y que entregue como salida el largo de la hipotenusa c del triángulo, dado por el teorema de\n",
    " Pitágoras: $ C^{2} = a^2 + b^2$**.\n",
    " Con este fin se creara la función pitagoras que recibe dos parámetros los catetos  y da la hipotenusa"
   ]
  },
  {
   "cell_type": "code",
   "execution_count": 9,
   "id": "fb5ab974-c9e2-49ce-bfa3-d75aeaf048fb",
   "metadata": {},
   "outputs": [],
   "source": [
    "def pitagoras(a,b):\n",
    "    c = (a**2+b**2)**0.5 # realiza el terrema de Pitagoras \n",
    "    return c"
   ]
  },
  {
   "cell_type": "code",
   "execution_count": 12,
   "id": "5559c093-a64c-4ece-90b0-98000ecd35dc",
   "metadata": {},
   "outputs": [
    {
     "name": "stdin",
     "output_type": "stream",
     "text": [
      "Ingresa la longitud del cateto a: \n",
      " 3\n",
      "Ingresa la longitud del cateto b: \n",
      " 4\n"
     ]
    },
    {
     "name": "stdout",
     "output_type": "stream",
     "text": [
      "la hipotenusa es:\n",
      "5.00\n"
     ]
    }
   ],
   "source": [
    "a = float(input(\"Ingresa la longitud del cateto a: \\n\")) # entrada cateto a\n",
    "b = float(input(\"Ingresa la longitud del cateto b: \\n\")) # entrada cateto b\n",
    "hipotenusa = pitagoras(a,b) \n",
    "print(f'la hipotenusa es:\\n{hipotenusa:.2f}')"
   ]
  },
  {
   "cell_type": "markdown",
   "id": "96783253-7088-4dbf-9671-28a6d5fe6ee1",
   "metadata": {},
   "source": [
    "**5. Cree un programa que determine qu tan rápido viaja un objeto cuando golpea el suelo. El usuario\n",
    " ingresará la altura desde la cual se deja caer el objeto en metros (m). Debido a que el objeto se deja caer,\n",
    " su velocidad inicial es $0 \\,m/s$. Suponga que la aceleración de la gravedad es de $9,8 \\,m/s2$ . Puede usar la fórmula $ v_f = \\sqrt{v_i^2 + 2ad} $\n",
    "para calcular la velocidad final, $ v_f $ , cuando se conocen la velocidad inicial, $ v_i $,\n",
    " la aceleración $ a $, y la distancia $ d $**.\n",
    " \n",
    " Para este punto se creara una función que acepte la distancia en este caso distacia = altura y la velocidad inicial, dando como resultado la velocidad final en el suelo.  "
   ]
  },
  {
   "cell_type": "code",
   "execution_count": 13,
   "id": "3fd8d253-600e-4fbe-b7f4-eb588246d4cf",
   "metadata": {},
   "outputs": [],
   "source": [
    "def velocidad_final():\n",
    "    altura = float(input('Ingrese la altura en m, debe ser un número positivo \\n'))\n",
    "    velocidad_inicial = float(input('Ingrese la velocidad inicial en m/s, puede ser un número negativo \\n'))\n",
    "    g = 9.8\n",
    "    if altura>= 0: \n",
    "        velocidad_final_ = (velocidad_inicial**2+2*altura*g)**0.5\n",
    "        print(f\"La velocidad con que el objeto toca el suelo es:\\n{velocidad_final_:.2f}\")\n",
    "        pass\n",
    "    else:\n",
    "        print('La altura no puede ser negativa debido a que el objeto debe estar sobre el suelo, intente de nuevo')\n",
    "        velocidad_final()\n",
    "        \n",
    "    \n",
    "    "
   ]
  },
  {
   "cell_type": "code",
   "execution_count": 14,
   "id": "59d33ed2-1084-4f90-a9b7-ab30e0351e51",
   "metadata": {},
   "outputs": [
    {
     "name": "stdin",
     "output_type": "stream",
     "text": [
      "Ingrese la altura en m, debe ser un número positivo \n",
      " -10\n",
      "Ingrese la velocidad inicial en m/s, puede ser un número negativo \n",
      " 10\n"
     ]
    },
    {
     "name": "stdout",
     "output_type": "stream",
     "text": [
      "La altura no puede ser negativa debido a que el objeto debe estar sobre el suelo, intente de nuevo\n"
     ]
    },
    {
     "name": "stdin",
     "output_type": "stream",
     "text": [
      "Ingrese la altura en m, debe ser un número positivo \n",
      " 10\n",
      "Ingrese la velocidad inicial en m/s, puede ser un número negativo \n",
      " 10\n"
     ]
    },
    {
     "name": "stdout",
     "output_type": "stream",
     "text": [
      "La velocidad con que el objeto toca el suelo es:\n",
      "17.20\n"
     ]
    }
   ],
   "source": [
    "velocidad_final()\n"
   ]
  },
  {
   "cell_type": "markdown",
   "id": "98aeb022-f597-46dc-b59d-47e3c144f9f0",
   "metadata": {},
   "source": [
    "### Estructuras Condicionales\r\n"
   ]
  },
  {
   "cell_type": "markdown",
   "id": "a41aa03e-691b-46f7-b4f3-ac7a2b0cf633",
   "metadata": {},
   "source": [
    " **1. El año se divide en cuatro estaciones: primavera, verano, otoño e invierno. Si bien las fechas exactas en\n",
    " que cambian las estaciones varían un poco de un año a otro debido a la forma en que se construye el\n",
    " calendario, usaremos las siguientes fechas para este ejercicio:**\n",
    " \n",
    "| Estación | Primer Dia |\n",
    "| -----------| ---------------  | \n",
    "| Primavera  | 20 de Marzo      | \n",
    "|  Verano    | 21 de Junio      | \n",
    "| Otoño      | 22 de Septiembre |\n",
    "| Invierno   | 21 de Diciembre  |\n",
    "\n",
    "\n",
    " **Cree un programa que lea un mes y un día del usuario. El usuario ingresará el nombre del mes como\n",
    " una cadena (String), seguido del día dentro del mes como un número entero. Luego, su programa debería\n",
    " mostrar la temporada asociada con la fecha que se ingresó**.\n",
    " \n",
    " Para realizar este punto se utilizara el modulo datetime y el año 2023 que no es bisiesto, creando una función"
   ]
  },
  {
   "cell_type": "code",
   "execution_count": 15,
   "id": "e58a3c5b-c6fe-484a-8f54-996f3ccb3268",
   "metadata": {},
   "outputs": [],
   "source": [
    "def estacion_ano():\n",
    "    meses = {'enero': 1,'febrero': 2, 'marzo': 3,'abril': 4, 'mayo': 5,'junio': 6,\n",
    "         'julio': 7,'agosto': 8,'septiembre': 9,'octubre': 10,'noviembre': 11,'diciembre': 12\n",
    "        }# diicionario con los meses, se usa para convertir a número \n",
    "    try: # captura si hay una fecha que no es valida como enero 50\n",
    "        fecha_entrada = input(\"Ingrese un mes del año y un día del mes separados por guion (-): \\n \")\n",
    "        mes,dia = fecha_entrada.split('-') # separa la cadena en dos \n",
    "        mes_num = int(meses[mes.lower()]) # coloca en minuscula\n",
    "        fecha =  date(2023, mes_num, int(dia)) # convierte la entrada en objeto date \n",
    "        if  date(2023, 3, 20) <= fecha <= date(2023, 6, 20): # condicion de primavera\n",
    "            print('La estación del año es:\\nprimavera')     \n",
    "        elif date(2023, 6, 21) <= fecha <= date(2023, 9, 21): # condicion de Verano\n",
    "            print('La estación del año es:\\nVerano')\n",
    "        elif date(2023, 9, 22) <= fecha <= date(2023, 12, 20): # condicion de Otoño\n",
    "            print('La estación del año es:\\nOtoño')\n",
    "        else:\n",
    "            print('La estacion del año es:\\nInvierno') # condicion de invierno\n",
    "    except ValueError:\n",
    "            print('Fecha no válida, por favor, ingrese una fecha válida.')   # deuleve el procedimiento de nuevo si la fecha es invalida\n",
    "            estacion_ano()\n",
    "        "
   ]
  },
  {
   "cell_type": "code",
   "execution_count": 17,
   "id": "35353789-c6e0-4b07-918d-3f72d1b1c941",
   "metadata": {},
   "outputs": [
    {
     "name": "stdin",
     "output_type": "stream",
     "text": [
      "Ingrese un mes del año y un día del mes separados por guion (-): \n",
      "  enero-50\n"
     ]
    },
    {
     "name": "stdout",
     "output_type": "stream",
     "text": [
      "Fecha no válida, por favor, ingrese una fecha válida.\n"
     ]
    },
    {
     "name": "stdin",
     "output_type": "stream",
     "text": [
      "Ingrese un mes del año y un día del mes separados por guion (-): \n",
      "  enero*30\n"
     ]
    },
    {
     "name": "stdout",
     "output_type": "stream",
     "text": [
      "Fecha no válida, por favor, ingrese una fecha válida.\n"
     ]
    },
    {
     "name": "stdin",
     "output_type": "stream",
     "text": [
      "Ingrese un mes del año y un día del mes separados por guion (-): \n",
      "  enero30\n"
     ]
    },
    {
     "name": "stdout",
     "output_type": "stream",
     "text": [
      "Fecha no válida, por favor, ingrese una fecha válida.\n"
     ]
    },
    {
     "name": "stdin",
     "output_type": "stream",
     "text": [
      "Ingrese un mes del año y un día del mes separados por guion (-): \n",
      "  enero-30\n"
     ]
    },
    {
     "name": "stdout",
     "output_type": "stream",
     "text": [
      "La estacion del año es:\n",
      "Invierno\n"
     ]
    }
   ],
   "source": [
    "estacion_ano()"
   ]
  },
  {
   "cell_type": "markdown",
   "id": "e2c7b5fd-b8c2-4fcc-a993-68b8806d92f3",
   "metadata": {},
   "source": [
    " **2. Realice un programa que simule una calculadora básica, este puede realizar operación de suma, resta,\n",
    " multiplicación y división. El programa debe recibir como entrada 2 números reales y un operador, que\n",
    " puede ser +,−,∗,/. La salida del programa debe ser el resultado de la operación**\n",
    " \n",
    " Para crear este programa se creara la función calculadora"
   ]
  },
  {
   "cell_type": "code",
   "execution_count": 18,
   "id": "46fd2b03-a667-47ae-b057-5234135fc68d",
   "metadata": {},
   "outputs": [],
   "source": [
    "def calculadora():\n",
    "    try: # captura error si alguno no es un número\n",
    "        n1 = float(input('Ingrese el primer número \\n')) # captura el primer número\n",
    "        n2 = float(input('Ingrese un segundo número \\n')) # captura el segundo nümero\n",
    "        operador = input('Ingrese un operador (+,-,*,/) \\n') # captura el operador \n",
    "        if operador =='+':\n",
    "            print(f'La suma es:\\n{n1+n2:.2f}')\n",
    "        elif operador =='-':\n",
    "            print(f'La resta es:\\n{n1-n2:.2f}')    \n",
    "        elif operador =='*':\n",
    "            print(f'El producto es:\\n{n1*n2:.2f}')\n",
    "        elif operador =='/':\n",
    "            print(f'El cociente es:\\n{n1/n2:.2f}')  \n",
    "        else: \n",
    "            print('El operador no es un operador correcto, intente nuevamente')\n",
    "            calculadora() # llama de nuevo la función\n",
    "    except:\n",
    "        print('Debe ingresar números, intente nuevamente')\n",
    "        calculadora() # llama de nuevo la función\n",
    "    pass\n",
    "     "
   ]
  },
  {
   "cell_type": "code",
   "execution_count": 19,
   "id": "a1fd6254-d1a4-4325-93aa-8174d123297f",
   "metadata": {},
   "outputs": [
    {
     "name": "stdin",
     "output_type": "stream",
     "text": [
      "Ingrese el primer número \n",
      " 10\n",
      "Ingrese un segundo número \n",
      " *\n"
     ]
    },
    {
     "name": "stdout",
     "output_type": "stream",
     "text": [
      "Debe ingresar números, intente nuevamente\n"
     ]
    },
    {
     "name": "stdin",
     "output_type": "stream",
     "text": [
      "Ingrese el primer número \n",
      " 10\n",
      "Ingrese un segundo número \n",
      " 20\n",
      "Ingrese un operador (+,-,*,/) \n",
      " ---\n"
     ]
    },
    {
     "name": "stdout",
     "output_type": "stream",
     "text": [
      "El operador no es un operador correcto, intente nuevamente\n"
     ]
    },
    {
     "name": "stdin",
     "output_type": "stream",
     "text": [
      "Ingrese el primer número \n",
      " 10\n",
      "Ingrese un segundo número \n",
      " 20\n",
      "Ingrese un operador (+,-,*,/) \n",
      " /\n"
     ]
    },
    {
     "name": "stdout",
     "output_type": "stream",
     "text": [
      "El cociente es:\n",
      "0.50\n"
     ]
    }
   ],
   "source": [
    " calculadora()"
   ]
  },
  {
   "cell_type": "markdown",
   "id": "95b85a0d-18fc-41dc-93c1-e8abb220c7b4",
   "metadata": {},
   "source": [
    " **3. El riesgo de que una persona sufra enfermedades coronarias depende de su edad y su índice de masa\n",
    " corporal.**\n",
    "\n",
    "\n",
    "|            | **Edad < 45**  |  **Edad > 45**  | \n",
    "|------------| -----------| ---------------     | \n",
    "|**IMC < 22**| bajo       | medio               | \n",
    "|**IMC > 22**| medio      | alto                | \n",
    "\n",
    "**El índice de masa corporal es el cociente entre el peso del individuo en kilos y el cuadrado de su estatura\n",
    " en metros. Escriba un programa que reciba como entrada la estatura, el peso y la edad de una persona,\n",
    " y le entregue su condición de riesgo**\n",
    "\n",
    " Para este punto se creo la función IMC"
   ]
  },
  {
   "cell_type": "code",
   "execution_count": 21,
   "id": "fbc626c8-6886-4318-995a-ccc538c4c6aa",
   "metadata": {},
   "outputs": [],
   "source": [
    "def IMC():\n",
    "    print('Este programa calcula el riesgo cardiaco de una persona basado en el IMC y su edad \\n')\n",
    "    try: # captura error si alguno no es un número\n",
    "        peso = float(input('Ingrese el peso en kg ')) # captura el peso\n",
    "        altura = float(input('Ingrese la altura en m ')) # captura la altura\n",
    "        edad = float(input('Ingrese la edad ')) # captura la edad\n",
    "        imc = peso/altura**2\n",
    "        if edad < 45: # separa a los pacientes por edad\n",
    "            if imc < 22: # separa por IMC\n",
    "                print('Esta persona tiene riesgo\\033[1m bajo\\033[0m ')\n",
    "            else: \n",
    "                print('Esta persona tiene riesgo\\033[1m medio\\033[0m ')\n",
    "        else: \n",
    "            if imc < 22:\n",
    "                print('Esta persona tiene riesgo\\033[1m medio\\033[0m ')\n",
    "            else: \n",
    "                print('Esta persona tiene riesgo\\033[1m alto\\033[0m ')\n",
    "    except: # devuelve esto si uno de los valores de entradad no es un número\n",
    "        print('Alguno de los valores no es un número, intente nuevamente')\n",
    "        IMC() # llama de nuevo la función\n",
    "       "
   ]
  },
  {
   "cell_type": "code",
   "execution_count": 22,
   "id": "790f7b05-5450-4be3-968c-c55998403d66",
   "metadata": {},
   "outputs": [
    {
     "name": "stdout",
     "output_type": "stream",
     "text": [
      "Este programa calcula el riesgo cardiaco de una persona basado en el IMC y su edad \n",
      "\n"
     ]
    },
    {
     "name": "stdin",
     "output_type": "stream",
     "text": [
      "Ingrese el peso en kg  10**\n"
     ]
    },
    {
     "name": "stdout",
     "output_type": "stream",
     "text": [
      "Alguno de los valores no es un número, intente nuevamente\n",
      "Este programa calcula el riesgo cardiaco de una persona basado en el IMC y su edad \n",
      "\n"
     ]
    },
    {
     "name": "stdin",
     "output_type": "stream",
     "text": [
      "Ingrese el peso en kg  50\n",
      "Ingrese la altura en m  1.60\n",
      "Ingrese la edad  46\n"
     ]
    },
    {
     "name": "stdout",
     "output_type": "stream",
     "text": [
      "Esta persona tiene riesgo\u001b[1m medio\u001b[0m \n"
     ]
    }
   ],
   "source": [
    "IMC()\n"
   ]
  },
  {
   "cell_type": "markdown",
   "id": "0b5fcb42-4d94-4526-aa86-b09cbffe21ab",
   "metadata": {},
   "source": [
    "### Ciclos"
   ]
  },
  {
   "cell_type": "markdown",
   "id": "7f42d315-11af-4525-a813-861f5d8ce527",
   "metadata": {},
   "source": [
    " **1. Una palabra o frase es un palíndromo si es idéntica hacia adelante y hacia atrás. Por ejemplo, *anna*,\n",
    " *civic*, *level* y *hannah* son ejemplos de palabras palindrómicas. Escriba un programa que lea una cadena\n",
    " (String) del usuario y use un bucle (ciclo) para determinar si es o no un palíndromo. Muestre el resultado,\n",
    " incluido un mensaje de salida significativo**\n",
    "\n",
    " Para este ejercicio se creara la función polindromica"
   ]
  },
  {
   "cell_type": "code",
   "execution_count": 23,
   "id": "7a7cf021-d081-485c-bf3b-797ca07c2b9a",
   "metadata": {},
   "outputs": [],
   "source": [
    "def polindromica():\n",
    "    cadena = input('Ingrese una palabra para ver si es poliandrómica \\n') # cadena de entrada\n",
    "    cadena1 = cadena.lower() # genera una nueva cadena con solo minusculas\n",
    "    if cadena1.isalpha(): # comprueba si la cadena solo tiene letras\n",
    "        \n",
    "        longitud = len(cadena) # longitud de la cadena de entrada\n",
    "        lista_cadena_inversa = ['X']*longitud # crea una lista con el mismo número de elementos que cadena\n",
    "        for indice in range(0,longitud,1): # recorre los elemento de la cadena en orden inverso y se los asigna a la lista inversa \n",
    "            lista_cadena_inversa[indice] = cadena[(longitud-1)-indice]\n",
    "        cadena_inversa =''.join(lista_cadena_inversa) # transforma la lista en una cadena\n",
    "        if cadena == cadena_inversa:\n",
    "             print(f'\\033[1m !!!!Genial {cadena} es una palabra palindrómica !!!!\\033[0m ') # imprime si la cadena es palindrómica\n",
    "        else:\n",
    "            print(f'Lo siento la palabra {cadena} no es palindrómica' ) # imprime si la cadena no es palindrómica\n",
    "    else: \n",
    "        print(f'La entrada del teclado no es una palabra, intente de nuevo' ) # si la entradad inicial no es una palabra, empieza de nuevo\n",
    "        polindromica()\n"
   ]
  },
  {
   "cell_type": "code",
   "execution_count": 25,
   "id": "9a36d095-e68e-4e77-a31e-133895fcab7d",
   "metadata": {},
   "outputs": [
    {
     "name": "stdin",
     "output_type": "stream",
     "text": [
      "Ingrese una palabra para ver si es poliandrómica \n",
      " Leo1\n"
     ]
    },
    {
     "name": "stdout",
     "output_type": "stream",
     "text": [
      "La entrada del teclado no es una palabra, intente de nuevo\n"
     ]
    },
    {
     "name": "stdin",
     "output_type": "stream",
     "text": [
      "Ingrese una palabra para ver si es poliandrómica \n",
      " leo\n"
     ]
    },
    {
     "name": "stdout",
     "output_type": "stream",
     "text": [
      "Lo siento la palabra leo no es palindrómica\n"
     ]
    }
   ],
   "source": [
    "polindromica()"
   ]
  },
  {
   "cell_type": "code",
   "execution_count": 26,
   "id": "3c936396-83ef-4212-b9df-0e983248e0f1",
   "metadata": {},
   "outputs": [
    {
     "name": "stdin",
     "output_type": "stream",
     "text": [
      "Ingrese una palabra para ver si es poliandrómica \n",
      " ana\n"
     ]
    },
    {
     "name": "stdout",
     "output_type": "stream",
     "text": [
      "\u001b[1m !!!!Genial ana es una palabra palindrómica !!!!\u001b[0m \n"
     ]
    }
   ],
   "source": [
    "polindromica()"
   ]
  },
  {
   "cell_type": "code",
   "execution_count": 28,
   "id": "63a5e7b4-4e48-4a29-b53a-f8fb2e601d38",
   "metadata": {},
   "outputs": [
    {
     "name": "stdin",
     "output_type": "stream",
     "text": [
      "Ingrese una palabra para ver si es poliandrómica \n",
      " ama\n"
     ]
    },
    {
     "name": "stdout",
     "output_type": "stream",
     "text": [
      "\u001b[1m !!!!Genial ama es una palabra palindrómica !!!!\u001b[0m \n"
     ]
    }
   ],
   "source": [
    "polindromica()"
   ]
  },
  {
   "cell_type": "markdown",
   "id": "a7e195b0-605e-4ed4-9113-f2bbb6178d6c",
   "metadata": {},
   "source": [
    "**2. Escriba un programa que pida al usuario dos números enteros, y luego entregue la suma de todos los\n",
    " números que están entre ellos. Por ejemplo, si los números son 1 y 7, debe entregar como resultado\n",
    " 2+3+4+5+6=20**\n",
    " \n",
    " Para esto se construye la función suma parcial."
   ]
  },
  {
   "cell_type": "code",
   "execution_count": 29,
   "id": "9a457707-eae4-4548-a009-146c08702595",
   "metadata": {},
   "outputs": [],
   "source": [
    "def suma_parcial():\n",
    "    print('Esta función calcula la suma de los numeros enteros entre un intervalo dado (a,b) \\n')\n",
    "    try: # captura error si alguno no es un número\n",
    "            a = int(input('Ingrese el limite inferior \\n')) # captura el limite inferior\n",
    "            b = int(input('Ingrese el limite superior \\n')) # captura el limite superior\n",
    "            suma=0 # inicia la variable suma\n",
    "            for i in range(a+1,b,1): # ciclo para calcular la suma\n",
    "                suma+=+i\n",
    "            print(f\"El valor de la suma de los numeros enteros en el intervalo ({a},{b}) es:\\n{suma}\") # imprime el valor de la suma\n",
    "    except:\n",
    "        print(\"alguno de los valores no es un numero valido, intente de nuevo\") # muestra si uno de los valores no es un número \n",
    "                                                                                \n",
    "        suma_parcial() #  vuelve a llamar la función"
   ]
  },
  {
   "cell_type": "code",
   "execution_count": 30,
   "id": "17cd9d0b-0948-46b6-9da7-049ffcd17d3c",
   "metadata": {},
   "outputs": [
    {
     "name": "stdout",
     "output_type": "stream",
     "text": [
      "Esta función calcula la suma de los numeros enteros entre un intervalo dado (a,b) \n",
      "\n"
     ]
    },
    {
     "name": "stdin",
     "output_type": "stream",
     "text": [
      "Ingrese el limite inferior \n",
      " 0\n",
      "Ingrese el limite superior \n",
      " 101\n"
     ]
    },
    {
     "name": "stdout",
     "output_type": "stream",
     "text": [
      "El valor de la suma de los numeros enteros en el intervalo (0,101) es:\n",
      "5050\n"
     ]
    }
   ],
   "source": [
    "suma_parcial()"
   ]
  },
  {
   "cell_type": "code",
   "execution_count": 31,
   "id": "bca91c2c-a5c1-4597-9063-ff6fd3a21554",
   "metadata": {},
   "outputs": [
    {
     "name": "stdout",
     "output_type": "stream",
     "text": [
      "Esta función calcula la suma de los numeros enteros entre un intervalo dado (a,b) \n",
      "\n"
     ]
    },
    {
     "name": "stdin",
     "output_type": "stream",
     "text": [
      "Ingrese el limite inferior \n",
      " 2\n",
      "Ingrese el limite superior \n",
      " 101\n"
     ]
    },
    {
     "name": "stdout",
     "output_type": "stream",
     "text": [
      "El valor de la suma de los numeros enteros en el intervalo (2,101) es:\n",
      "5047\n"
     ]
    }
   ],
   "source": [
    "suma_parcial()"
   ]
  }
 ],
 "metadata": {
  "kernelspec": {
   "display_name": "Python 3 (ipykernel)",
   "language": "python",
   "name": "python3"
  },
  "language_info": {
   "codemirror_mode": {
    "name": "ipython",
    "version": 3
   },
   "file_extension": ".py",
   "mimetype": "text/x-python",
   "name": "python",
   "nbconvert_exporter": "python",
   "pygments_lexer": "ipython3",
   "version": "3.12.1"
  }
 },
 "nbformat": 4,
 "nbformat_minor": 5
}
